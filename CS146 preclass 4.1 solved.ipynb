{
 "cells": [
  {
   "cell_type": "code",
   "execution_count": 1,
   "metadata": {},
   "outputs": [],
   "source": [
    "from scipy.optimize import minimize\n",
    "import numpy as np\n",
    "\n"
   ]
  },
  {
   "cell_type": "code",
   "execution_count": 2,
   "metadata": {},
   "outputs": [],
   "source": [
    "def f(x):\n",
    "    x_mean = x[0]\n",
    "    nu = x[1]\n",
    "    alpha = x[2]\n",
    "    beta = x[3]\n",
    "    x_sd = np.sqrt(beta/(alpha-1)/nu)\n",
    "    var_mean = beta/ (alpha-1)\n",
    "    var_sd =  beta/(alpha-1)/np.sqrt(alpha-2)\n",
    "    \n",
    "    return ( (x_mean - 2.3)**2 + (x_sd - .5)**2 +  (var_mean - 2.75)**2 +  (var_sd-1)**2)"
   ]
  },
  {
   "cell_type": "code",
   "execution_count": 8,
   "metadata": {},
   "outputs": [
    {
     "data": {
      "text/plain": [
       "array([ 2.29999998, 10.99999682,  9.5624996 , 23.54687387])"
      ]
     },
     "execution_count": 8,
     "metadata": {},
     "output_type": "execute_result"
    }
   ],
   "source": [
    "initials = [2.3, .1,  3, 5]\n",
    "result = minimize(f, initials)\n",
    "finals = result.x\n",
    "finals"
   ]
  },
  {
   "cell_type": "code",
   "execution_count": null,
   "metadata": {},
   "outputs": [],
   "source": []
  }
 ],
 "metadata": {
  "kernelspec": {
   "display_name": "Python 3",
   "language": "python",
   "name": "python3"
  },
  "language_info": {
   "codemirror_mode": {
    "name": "ipython",
    "version": 3
   },
   "file_extension": ".py",
   "mimetype": "text/x-python",
   "name": "python",
   "nbconvert_exporter": "python",
   "pygments_lexer": "ipython3",
   "version": "3.7.3"
  }
 },
 "nbformat": 4,
 "nbformat_minor": 2
}
